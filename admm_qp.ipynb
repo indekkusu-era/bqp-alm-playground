{
 "cells": [
  {
   "cell_type": "code",
   "execution_count": 1,
   "metadata": {},
   "outputs": [],
   "source": [
    "import numpy as np\n",
    "from utils.generator import generate_positive_definite_matrix, make_quadratic_function\n",
    "from itertools import product\n",
    "from scipy.optimize import minimize\n",
    "from tqdm import tqdm"
   ]
  },
  {
   "cell_type": "code",
   "execution_count": 2,
   "metadata": {},
   "outputs": [],
   "source": [
    "n = 20"
   ]
  },
  {
   "cell_type": "code",
   "execution_count": 3,
   "metadata": {},
   "outputs": [],
   "source": [
    "Q = generate_positive_definite_matrix(n)\n",
    "c = np.random.normal(size=n)\n",
    "mu0 = 1.5 / np.min(np.linalg.eigvalsh(Q))"
   ]
  },
  {
   "cell_type": "code",
   "execution_count": 4,
   "metadata": {},
   "outputs": [],
   "source": [
    "def brute_force(Q, c):\n",
    "    n = len(c)\n",
    "    obj_fn = make_quadratic_function(Q, c)\n",
    "    all_possible_x = np.array(list(product([0, 1], repeat=n)))\n",
    "    x_star = all_possible_x[np.argmin(np.array(list(map(obj_fn, all_possible_x))))]\n",
    "    return x_star"
   ]
  },
  {
   "cell_type": "code",
   "execution_count": 5,
   "metadata": {},
   "outputs": [],
   "source": [
    "def binary_admm(obj_fn, x0, y0, mu0, n_iter=100, gamma=0.9):\n",
    "    n = len(x0)\n",
    "    x = z = x0\n",
    "    y = y0\n",
    "    mu = mu0\n",
    "    bnds = [(0,1)] * n\n",
    "    for _ in range(n_iter):\n",
    "        lx = lambda x: obj_fn(x) + np.dot(y, x - z) + 1/(2*mu) * (np.linalg.norm(x - z) ** 2)\n",
    "        res = minimize(lx, x, bounds=bnds)\n",
    "        x = res.x\n",
    "        z = np.where(x ** 2 / (2 * mu) < (x - 1) ** 2 / (2 * mu) - y, 0, 1)\n",
    "        y += (x - z) / mu\n",
    "        mu *= gamma\n",
    "    return x, y"
   ]
  },
  {
   "cell_type": "code",
   "execution_count": 6,
   "metadata": {},
   "outputs": [
    {
     "name": "stderr",
     "output_type": "stream",
     "text": [
      "  9%|▉         | 9/100 [00:00<00:05, 16.90it/s]"
     ]
    },
    {
     "name": "stdout",
     "output_type": "stream",
     "text": [
      "123.46173581332405 1\n"
     ]
    },
    {
     "name": "stderr",
     "output_type": "stream",
     "text": [
      " 18%|█▊        | 18/100 [00:01<00:04, 16.46it/s]"
     ]
    },
    {
     "name": "stdout",
     "output_type": "stream",
     "text": [
      "99.74490529852284 1\n"
     ]
    },
    {
     "name": "stderr",
     "output_type": "stream",
     "text": [
      " 86%|████████▌ | 86/100 [00:05<00:00, 15.11it/s]"
     ]
    },
    {
     "name": "stdout",
     "output_type": "stream",
     "text": [
      "142.49934310249927 1\n"
     ]
    },
    {
     "name": "stderr",
     "output_type": "stream",
     "text": [
      "100%|██████████| 100/100 [00:06<00:00, 16.57it/s]"
     ]
    },
    {
     "name": "stdout",
     "output_type": "stream",
     "text": [
      "0.9939999999999999\n"
     ]
    },
    {
     "name": "stderr",
     "output_type": "stream",
     "text": [
      "\n"
     ]
    }
   ],
   "source": [
    "correct = 0\n",
    "n_iter = 100\n",
    "for i in tqdm(range(n_iter)):\n",
    "    Q = generate_positive_definite_matrix(n)\n",
    "    c = np.random.normal(size=n)\n",
    "    k = np.min(np.linalg.eigvalsh(Q))\n",
    "    obj_fn = make_quadratic_function(Q, c)\n",
    "    mu = 1/k * 1.5\n",
    "    xhat, yhat = binary_admm(obj_fn, np.ones(n) * 0.5, np.zeros(n), mu, 100, gamma=0.9)\n",
    "    xhat = np.where(xhat > 0.5, 1, 0)\n",
    "    xstar = brute_force(Q, c)\n",
    "    if np.sum(xhat ^ xstar):\n",
    "        print(mu, np.sum(xhat ^ xstar))\n",
    "    correct += 1 - np.sum(xhat ^ xstar) / n\n",
    "\n",
    "print(correct / n_iter)"
   ]
  },
  {
   "cell_type": "code",
   "execution_count": null,
   "metadata": {},
   "outputs": [],
   "source": []
  }
 ],
 "metadata": {
  "kernelspec": {
   "display_name": "Python 3",
   "language": "python",
   "name": "python3"
  },
  "language_info": {
   "codemirror_mode": {
    "name": "ipython",
    "version": 3
   },
   "file_extension": ".py",
   "mimetype": "text/x-python",
   "name": "python",
   "nbconvert_exporter": "python",
   "pygments_lexer": "ipython3",
   "version": "3.11.3"
  }
 },
 "nbformat": 4,
 "nbformat_minor": 2
}
