{
 "cells": [
  {
   "cell_type": "code",
   "execution_count": 1,
   "metadata": {},
   "outputs": [],
   "source": [
    "import numpy as np\n",
    "from methods.alm import quadratic_penalty, augmented_lagrangian, ALM\n",
    "from utils.generator import generate_positive_definite_matrix, make_quadratic_function\n",
    "from itertools import product\n",
    "from scipy.optimize import minimize"
   ]
  },
  {
   "cell_type": "code",
   "execution_count": 2,
   "metadata": {},
   "outputs": [],
   "source": [
    "n = 10"
   ]
  },
  {
   "cell_type": "code",
   "execution_count": 3,
   "metadata": {},
   "outputs": [],
   "source": [
    "Q = generate_positive_definite_matrix(n)\n",
    "c = np.random.normal(size=n)\n",
    "k = np.min(np.linalg.eigvalsh(Q))"
   ]
  },
  {
   "cell_type": "code",
   "execution_count": 4,
   "metadata": {},
   "outputs": [
    {
     "data": {
      "text/plain": [
       "array([[ 9.04845353e-01, -8.13135425e-01,  3.20334695e-01,\n",
       "         7.25888431e-02,  3.15951205e-02, -2.68996848e-02,\n",
       "        -4.62748775e-01, -1.93490024e-01,  2.06261283e-01,\n",
       "        -3.09529107e-01],\n",
       "       [-8.13135425e-01,  1.41466375e+00, -6.13466743e-01,\n",
       "        -5.33730244e-02,  1.15374406e-02, -5.77305990e-02,\n",
       "         7.86134034e-01,  1.54549631e-01,  1.08942437e-01,\n",
       "         5.72781983e-01],\n",
       "       [ 3.20334695e-01, -6.13466743e-01,  5.87735776e-01,\n",
       "         2.43122977e-01,  2.24953638e-02,  1.76169717e-01,\n",
       "        -6.72171914e-02,  2.63316518e-05,  1.60229690e-01,\n",
       "        -1.74795064e-01],\n",
       "       [ 7.25888431e-02, -5.33730244e-02,  2.43122977e-01,\n",
       "         1.12954419e+00, -6.20663171e-02,  1.04769452e+00,\n",
       "         4.46744959e-01,  4.49366260e-01,  7.50823632e-03,\n",
       "         5.31852147e-01],\n",
       "       [ 3.15951205e-02,  1.15374406e-02,  2.24953638e-02,\n",
       "        -6.20663171e-02,  6.55346934e-01,  1.38075365e-01,\n",
       "         2.73795539e-02, -3.24778967e-01,  2.78545529e-01,\n",
       "        -4.04818184e-01],\n",
       "       [-2.68996848e-02, -5.77305990e-02,  1.76169717e-01,\n",
       "         1.04769452e+00,  1.38075365e-01,  1.68168222e+00,\n",
       "         3.79258605e-01,  2.31866539e-01, -1.73388307e-02,\n",
       "         6.28278767e-01],\n",
       "       [-4.62748775e-01,  7.86134034e-01, -6.72171914e-02,\n",
       "         4.46744959e-01,  2.73795539e-02,  3.79258605e-01,\n",
       "         8.44008090e-01,  1.36007221e-01,  2.04680245e-01,\n",
       "         5.93408249e-01],\n",
       "       [-1.93490024e-01,  1.54549631e-01,  2.63316518e-05,\n",
       "         4.49366260e-01, -3.24778967e-01,  2.31866539e-01,\n",
       "         1.36007221e-01,  1.17182440e+00, -1.22273556e-01,\n",
       "         6.83883871e-01],\n",
       "       [ 2.06261283e-01,  1.08942437e-01,  1.60229690e-01,\n",
       "         7.50823632e-03,  2.78545529e-01, -1.73388307e-02,\n",
       "         2.04680245e-01, -1.22273556e-01,  4.70869025e-01,\n",
       "        -4.84438773e-02],\n",
       "       [-3.09529107e-01,  5.72781983e-01, -1.74795064e-01,\n",
       "         5.31852147e-01, -4.04818184e-01,  6.28278767e-01,\n",
       "         5.93408249e-01,  6.83883871e-01, -4.84438773e-02,\n",
       "         1.14897326e+00]])"
      ]
     },
     "execution_count": 4,
     "metadata": {},
     "output_type": "execute_result"
    }
   ],
   "source": [
    "Q - k * np.identity(n)"
   ]
  },
  {
   "cell_type": "code",
   "execution_count": 5,
   "metadata": {},
   "outputs": [],
   "source": [
    "def brute_force(Q, c):\n",
    "    n = len(c)\n",
    "    obj_fn = make_quadratic_function(Q, c)\n",
    "    all_possible_x = np.array(list(product([0, 1], repeat=n)))\n",
    "    x_star = all_possible_x[np.argmin(np.array(list(map(obj_fn, all_possible_x))))]\n",
    "    return x_star"
   ]
  },
  {
   "cell_type": "code",
   "execution_count": 6,
   "metadata": {},
   "outputs": [
    {
     "name": "stdout",
     "output_type": "stream",
     "text": [
      "105.31041754902206 2 264.80784584281025\n",
      "143.15861826975845 2 366.95461415984124\n",
      "133.6238574707039 1 254.48856584240613\n",
      "44.56105805810403 2 129.60733798818444\n",
      "47.7056218959858 3 127.53771948904688\n",
      "71.00639237257293 3 167.581679319884\n",
      "0.97\n"
     ]
    }
   ],
   "source": [
    "correct = 0\n",
    "n_iter = 200\n",
    "for i in range(n_iter):\n",
    "    Q = generate_positive_definite_matrix(n)\n",
    "    c = np.random.normal(size=n)\n",
    "    k = np.min(np.linalg.eigvalsh(Q))\n",
    "    obj_fn = make_quadratic_function(Q, c)\n",
    "    mu = 1/k * 1.5\n",
    "    xhat = ALM(obj_fn, np.ones(n) * 0.5, np.zeros(n), mu, 100, gamma=0.95)\n",
    "    xstar = brute_force(Q, c)\n",
    "    if np.sum(xhat ^ xstar):\n",
    "        print(mu, np.sum(xhat ^ xstar), np.linalg.cond(Q))\n",
    "        continue\n",
    "    correct += 1\n",
    "\n",
    "print(correct / n_iter)"
   ]
  },
  {
   "cell_type": "code",
   "execution_count": null,
   "metadata": {},
   "outputs": [],
   "source": []
  }
 ],
 "metadata": {
  "kernelspec": {
   "display_name": "Python 3",
   "language": "python",
   "name": "python3"
  },
  "language_info": {
   "codemirror_mode": {
    "name": "ipython",
    "version": 3
   },
   "file_extension": ".py",
   "mimetype": "text/x-python",
   "name": "python",
   "nbconvert_exporter": "python",
   "pygments_lexer": "ipython3",
   "version": "3.11.3"
  }
 },
 "nbformat": 4,
 "nbformat_minor": 2
}
