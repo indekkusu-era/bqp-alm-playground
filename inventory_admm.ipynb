{
 "cells": [
  {
   "cell_type": "code",
   "execution_count": 1,
   "metadata": {},
   "outputs": [],
   "source": [
    "import cvxpy as cp\n",
    "import numpy as np"
   ]
  },
  {
   "cell_type": "code",
   "execution_count": 2,
   "metadata": {},
   "outputs": [],
   "source": [
    "t = 5"
   ]
  },
  {
   "cell_type": "code",
   "execution_count": 3,
   "metadata": {},
   "outputs": [],
   "source": [
    "rng = np.random.randint(10, 100, size=t)"
   ]
  },
  {
   "cell_type": "code",
   "execution_count": 4,
   "metadata": {},
   "outputs": [],
   "source": [
    "very_big_number = np.sum(rng)"
   ]
  },
  {
   "cell_type": "code",
   "execution_count": 5,
   "metadata": {},
   "outputs": [],
   "source": [
    "k = cp.Parameter(name='k', nonneg=True)\n",
    "h = cp.Parameter(name='h', nonneg=True)\n",
    "c = cp.Parameter(name='c', nonneg=True)\n",
    "Dt = cp.Parameter((t,), name='Dt', nonneg=True)\n",
    "xt = cp.Variable((t,), nonneg=True)\n",
    "It = cp.Variable((t+1,))\n",
    "Qt = cp.Variable((t,))\n",
    "ut = cp.Parameter((t,), name='ut', nonneg=True)\n",
    "vt = cp.Parameter((t,), name='vt',  nonneg=True)\n",
    "wt = cp.Parameter((t+1,), name='wt', nonneg=True)\n",
    "zt = cp.Parameter((t,), name='zt', nonneg=True)\n",
    "lambda1 = cp.Parameter((t,), name='l1')\n",
    "lambda2 = cp.Parameter(name='l2')\n",
    "lambda3 = cp.Parameter(name='l3')\n",
    "lambda4 = cp.Parameter((t,), name='l4')\n",
    "lambda5 = cp.Parameter((t,), name='l5')\n",
    "lambda6 = cp.Parameter((t+1,), name='l6')\n",
    "lambda7 = cp.Parameter((t,), name='l6')\n",
    "mu = cp.Parameter(name='mu', nonneg=True)"
   ]
  },
  {
   "cell_type": "code",
   "execution_count": 6,
   "metadata": {},
   "outputs": [],
   "source": [
    "augmented_lagrangian = cp.sum(k * xt + h * It[1:] + c * Qt) \\\n",
    "    + cp.sum(cp.multiply(lambda1, It[1:] - It[:-1] - Qt + Dt)) + lambda2 * It[0] + lambda3 * It[-1]\\\n",
    "    + cp.sum(\n",
    "        cp.multiply(lambda4, xt - ut) + cp.multiply(lambda5, Qt - vt)\n",
    "        + cp.multiply(lambda7, very_big_number * ut - Qt - zt)\n",
    "    ) + cp.sum(cp.multiply(lambda6, It - wt)) + 1 / (2*mu) * (cp.sum_squares(It[1:] - It[:-1] - Qt + Dt) + It[0] ** 2 + It[-1] ** 2 \n",
    "                      + cp.sum_squares(xt - ut) + cp.sum_squares(Qt - vt) + cp.sum_squares(It - wt) + cp.sum_squares(very_big_number * ut - Qt - zt)\n",
    "                    )"
   ]
  },
  {
   "cell_type": "code",
   "execution_count": 7,
   "metadata": {},
   "outputs": [],
   "source": [
    "Dt.value = rng\n",
    "k.value = 100000\n",
    "h.value = 1\n",
    "c.value = 1\n",
    "xt.value = np.ones(t) * 0.5\n",
    "It.value = np.zeros(t+1)\n",
    "Qt.value = np.zeros(t)\n",
    "ut.value = np.ones(t)\n",
    "vt.value = np.zeros(t)\n",
    "wt.value = np.zeros(t+1)\n",
    "zt.value = np.zeros(t)\n",
    "lambda1.value = np.zeros(t)\n",
    "lambda2.value = 0\n",
    "lambda3.value = 0\n",
    "lambda4.value = np.zeros(t)\n",
    "lambda5.value = np.zeros(t)\n",
    "lambda6.value = np.zeros(t+1)\n",
    "lambda7.value = np.zeros(t)\n",
    "mu.value = 1000"
   ]
  },
  {
   "cell_type": "code",
   "execution_count": 8,
   "metadata": {},
   "outputs": [],
   "source": [
    "subprob_main_var = cp.Problem(cp.Minimize(augmented_lagrangian), constraints=[xt <= 1])"
   ]
  },
  {
   "cell_type": "code",
   "execution_count": 9,
   "metadata": {},
   "outputs": [
    {
     "data": {
      "text/plain": [
       "False"
      ]
     },
     "execution_count": 9,
     "metadata": {},
     "output_type": "execute_result"
    }
   ],
   "source": [
    "subprob_main_var.is_dcp(dpp=True)"
   ]
  },
  {
   "cell_type": "code",
   "execution_count": 10,
   "metadata": {},
   "outputs": [
    {
     "name": "stderr",
     "output_type": "stream",
     "text": [
      "c:\\Users\\Tanaphoom\\AppData\\Local\\Programs\\Python\\Python311\\Lib\\site-packages\\cvxpy\\reductions\\solvers\\solving_chain.py:213: UserWarning: You are solving a parameterized problem that is not DPP. Because the problem is not DPP, subsequent solves will not be faster than the first one. For more information, see the documentation on Discplined Parametrized Programming, at\n",
      "\thttps://www.cvxpy.org/tutorial/advanced/index.html#disciplined-parametrized-programming\n",
      "  warnings.warn(dpp_error_msg)\n"
     ]
    }
   ],
   "source": [
    "n_iter = 200\n",
    "gamma = 0.9\n",
    "for i in range(n_iter):\n",
    "    subprob_main_var.solve(warm_start=True)\n",
    "    # update uz\n",
    "    prox_ueq0 = np.where((lambda7 * mu - Qt).value >= 0, \n",
    "                         1 / (2 * mu.value) * ((lambda7.value * mu.value)**2 + xt.value**2) \n",
    "                         - lambda7.value * (lambda7.value * mu.value - Qt.value),\n",
    "                         1 / (2*mu.value) * (Qt.value ** 2 + xt.value ** 2))\n",
    "    prox_ueq1 = np.where((lambda7 * mu - Qt + very_big_number).value >= 0, \n",
    "                         1 / (2 * mu.value) * ((lambda7.value * mu.value)**2 + (xt.value - 1)**2) \n",
    "                         - lambda4.value - lambda7.value * (lambda7.value * mu.value - Qt.value + very_big_number),\n",
    "                         1 / (2*mu.value) * ((Qt.value - very_big_number) ** 2 + (xt.value - 1) ** 2) - lambda4.value)\n",
    "    ut.value = np.where(prox_ueq0 < prox_ueq1, 0, 1)\n",
    "    zt.value = np.where(prox_ueq0 < prox_ueq1, np.where((lambda7 * mu - Qt).value >= 0, (lambda7 * mu - Qt).value, 0), \n",
    "                        np.where((lambda7 * mu - Qt + very_big_number).value >= 0, (lambda7 * mu - Qt + very_big_number).value, 0))\n",
    "    # update vw\n",
    "    vt.value = np.where((Qt.value + mu.value * lambda5.value) > 0, Qt.value + mu.value * lambda5.value, 0)\n",
    "    wt.value = np.where((It.value + mu.value * lambda6.value) > 0, It.value + mu.value * lambda6.value, 0)\n",
    "    # update lambda\n",
    "    lambda1.value = lambda1.value + (It[1:] - It[:-1] - Qt + Dt).value / mu.value\n",
    "    lambda2.value = lambda2.value + It[0].value / mu.value\n",
    "    lambda3.value = lambda3.value + It[-1].value / mu.value\n",
    "    lambda4.value = lambda4.value + (xt - ut).value / mu.value\n",
    "    lambda5.value = lambda5.value + (Qt - vt).value / mu.value\n",
    "    lambda6.value = lambda6.value + (It - wt).value / mu.value\n",
    "    lambda7.value = lambda7.value + (very_big_number * ut - Qt - zt).value / mu.value\n",
    "    # update mu\n",
    "    mu.value *= gamma"
   ]
  },
  {
   "cell_type": "code",
   "execution_count": 11,
   "metadata": {},
   "outputs": [
    {
     "data": {
      "text/plain": [
       "array([1., 1., 1., 0., 1.])"
      ]
     },
     "execution_count": 11,
     "metadata": {},
     "output_type": "execute_result"
    }
   ],
   "source": [
    "xt.value"
   ]
  },
  {
   "cell_type": "code",
   "execution_count": 12,
   "metadata": {},
   "outputs": [
    {
     "data": {
      "text/plain": [
       "array([86, 67, 52, 18, 68])"
      ]
     },
     "execution_count": 12,
     "metadata": {},
     "output_type": "execute_result"
    }
   ],
   "source": [
    "Dt.value"
   ]
  },
  {
   "cell_type": "code",
   "execution_count": 13,
   "metadata": {},
   "outputs": [
    {
     "data": {
      "text/plain": [
       "array([ 8.59999999e+01,  6.70000003e+01,  6.99999998e+01, -2.22507248e-08,\n",
       "        6.80000001e+01])"
      ]
     },
     "execution_count": 13,
     "metadata": {},
     "output_type": "execute_result"
    }
   ],
   "source": [
    "Qt.value"
   ]
  },
  {
   "cell_type": "code",
   "execution_count": 14,
   "metadata": {},
   "outputs": [
    {
     "data": {
      "text/plain": [
       "array([ 3.27840431e-08,  1.07869483e-08,  3.56529902e-07,  1.80000001e+01,\n",
       "       -4.80018798e-10,  2.24907343e-08])"
      ]
     },
     "execution_count": 14,
     "metadata": {},
     "output_type": "execute_result"
    }
   ],
   "source": [
    "It.value"
   ]
  },
  {
   "cell_type": "code",
   "execution_count": 15,
   "metadata": {},
   "outputs": [
    {
     "data": {
      "text/plain": [
       "array([1, 1, 1, 0, 1])"
      ]
     },
     "execution_count": 15,
     "metadata": {},
     "output_type": "execute_result"
    }
   ],
   "source": [
    "ut.value"
   ]
  },
  {
   "cell_type": "code",
   "execution_count": 16,
   "metadata": {},
   "outputs": [
    {
     "data": {
      "text/plain": [
       "array([85.99999991, 67.00000027, 69.99999975,  0.        , 68.00000007])"
      ]
     },
     "execution_count": 16,
     "metadata": {},
     "output_type": "execute_result"
    }
   ],
   "source": [
    "vt.value"
   ]
  },
  {
   "cell_type": "code",
   "execution_count": 17,
   "metadata": {},
   "outputs": [
    {
     "data": {
      "text/plain": [
       "array([2.05304420e-08, 0.00000000e+00, 3.56529902e-07, 1.80000001e+01,\n",
       "       0.00000000e+00, 0.00000000e+00])"
      ]
     },
     "execution_count": 17,
     "metadata": {},
     "output_type": "execute_result"
    }
   ],
   "source": [
    "wt.value"
   ]
  },
  {
   "cell_type": "code",
   "execution_count": 18,
   "metadata": {},
   "outputs": [
    {
     "data": {
      "text/plain": [
       "array([205.00000009, 223.99999973, 221.00000025,   0.        ,\n",
       "       222.99999993])"
      ]
     },
     "execution_count": 18,
     "metadata": {},
     "output_type": "execute_result"
    }
   ],
   "source": [
    "zt.value"
   ]
  },
  {
   "cell_type": "code",
   "execution_count": 19,
   "metadata": {},
   "outputs": [
    {
     "data": {
      "text/plain": [
       "400309.0000004702"
      ]
     },
     "execution_count": 19,
     "metadata": {},
     "output_type": "execute_result"
    }
   ],
   "source": [
    "subprob_main_var.value"
   ]
  },
  {
   "cell_type": "code",
   "execution_count": null,
   "metadata": {},
   "outputs": [],
   "source": []
  }
 ],
 "metadata": {
  "kernelspec": {
   "display_name": "Python 3",
   "language": "python",
   "name": "python3"
  },
  "language_info": {
   "codemirror_mode": {
    "name": "ipython",
    "version": 3
   },
   "file_extension": ".py",
   "mimetype": "text/x-python",
   "name": "python",
   "nbconvert_exporter": "python",
   "pygments_lexer": "ipython3",
   "version": "3.11.3"
  }
 },
 "nbformat": 4,
 "nbformat_minor": 2
}
