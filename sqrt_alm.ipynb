{
 "cells": [
  {
   "cell_type": "code",
   "execution_count": 1,
   "metadata": {},
   "outputs": [],
   "source": [
    "import numpy as np\n",
    "from scipy.optimize import minimize\n",
    "from utils.generator import generate_positive_definite_matrix, make_quadratic_function\n",
    "from itertools import product\n",
    "from tqdm import tqdm"
   ]
  },
  {
   "cell_type": "code",
   "execution_count": 2,
   "metadata": {},
   "outputs": [],
   "source": [
    "n = 5"
   ]
  },
  {
   "cell_type": "code",
   "execution_count": 3,
   "metadata": {},
   "outputs": [],
   "source": [
    "Q = generate_positive_definite_matrix(n)\n",
    "c = np.random.normal(size=n)"
   ]
  },
  {
   "cell_type": "code",
   "execution_count": 4,
   "metadata": {},
   "outputs": [],
   "source": [
    "obj_fn = make_quadratic_function(Q, c)"
   ]
  },
  {
   "cell_type": "code",
   "execution_count": 5,
   "metadata": {},
   "outputs": [],
   "source": [
    "def sqrt_alm(obj_fn, lam, mu):\n",
    "    return lambda x: obj_fn(x) + np.dot(lam, np.sqrt(x * (1-x))) + 1 / (2*mu) * (np.sum(x * (1-x)))"
   ]
  },
  {
   "cell_type": "code",
   "execution_count": 6,
   "metadata": {},
   "outputs": [],
   "source": [
    "mu0 = 1 / np.min(np.linalg.eigvalsh(Q))\n",
    "lam0 = np.zeros(n)"
   ]
  },
  {
   "cell_type": "code",
   "execution_count": 7,
   "metadata": {},
   "outputs": [],
   "source": [
    "def alm_sqrt(obj_fn, x0, lam0, mu0, n_iter=50, gamma=0.9):\n",
    "    x = x0\n",
    "    lam = lam0\n",
    "    mu = mu0\n",
    "    for _ in range(n_iter):\n",
    "        alm = sqrt_alm(obj_fn, lam, mu)\n",
    "        x = minimize(alm,x, bounds=[(0,1)]*n).x\n",
    "        lam += np.sqrt(x * (1-x)) / mu\n",
    "        mu *= gamma\n",
    "    return x"
   ]
  },
  {
   "cell_type": "code",
   "execution_count": 8,
   "metadata": {},
   "outputs": [],
   "source": [
    "def brute_force(Q, c):\n",
    "    n = len(c)\n",
    "    obj_fn = make_quadratic_function(Q, c)\n",
    "    all_possible_x = np.array(list(product([0, 1], repeat=n)))\n",
    "    x_star = all_possible_x[np.argmin(np.array(list(map(obj_fn, all_possible_x))))]\n",
    "    return x_star"
   ]
  },
  {
   "cell_type": "code",
   "execution_count": 9,
   "metadata": {},
   "outputs": [
    {
     "data": {
      "text/plain": [
       "array([1., 1., 0., 0., 0.])"
      ]
     },
     "execution_count": 9,
     "metadata": {},
     "output_type": "execute_result"
    }
   ],
   "source": [
    "alm_sqrt(obj_fn, np.ones(n) * 0.5, lam0, mu0)"
   ]
  },
  {
   "cell_type": "code",
   "execution_count": 10,
   "metadata": {},
   "outputs": [
    {
     "data": {
      "text/plain": [
       "array([1, 1, 0, 0, 0])"
      ]
     },
     "execution_count": 10,
     "metadata": {},
     "output_type": "execute_result"
    }
   ],
   "source": [
    "brute_force(Q, c)"
   ]
  },
  {
   "cell_type": "code",
   "execution_count": 11,
   "metadata": {},
   "outputs": [
    {
     "name": "stderr",
     "output_type": "stream",
     "text": [
      " 27%|██▋       | 27/100 [00:01<00:04, 16.88it/s]"
     ]
    },
    {
     "name": "stdout",
     "output_type": "stream",
     "text": [
      "76.91346058003346 2\n"
     ]
    },
    {
     "name": "stderr",
     "output_type": "stream",
     "text": [
      " 69%|██████▉   | 69/100 [00:03<00:01, 20.31it/s]"
     ]
    },
    {
     "name": "stdout",
     "output_type": "stream",
     "text": [
      "19.71495049809526 1\n"
     ]
    },
    {
     "name": "stderr",
     "output_type": "stream",
     "text": [
      " 96%|█████████▌| 96/100 [00:04<00:00, 21.40it/s]"
     ]
    },
    {
     "name": "stdout",
     "output_type": "stream",
     "text": [
      "135.5461399134302 2\n"
     ]
    },
    {
     "name": "stderr",
     "output_type": "stream",
     "text": [
      "100%|██████████| 100/100 [00:05<00:00, 19.79it/s]"
     ]
    },
    {
     "name": "stdout",
     "output_type": "stream",
     "text": [
      "0.97\n"
     ]
    },
    {
     "name": "stderr",
     "output_type": "stream",
     "text": [
      "\n"
     ]
    }
   ],
   "source": [
    "correct = 0\n",
    "n_iter = 100\n",
    "for i in tqdm(range(n_iter)):\n",
    "    Q = generate_positive_definite_matrix(n)\n",
    "    c = np.random.normal(size=n)\n",
    "    k = np.min(np.linalg.eigvalsh(Q))\n",
    "    obj_fn = make_quadratic_function(Q, c)\n",
    "    mu = 1/k * 1.5\n",
    "    xhat = alm_sqrt(obj_fn, np.ones(n) * 0.5, np.zeros(n), mu, 100, gamma=0.9)\n",
    "    xhat = np.where(xhat > 0.5, 1, 0)\n",
    "    xstar = brute_force(Q, c)\n",
    "    if np.sum(xhat ^ xstar):\n",
    "        print(mu, np.sum(xhat ^ xstar))\n",
    "        continue\n",
    "    correct += 1 - np.sum(xhat ^ xstar) / n\n",
    "\n",
    "print(correct / n_iter)"
   ]
  },
  {
   "cell_type": "code",
   "execution_count": null,
   "metadata": {},
   "outputs": [],
   "source": []
  }
 ],
 "metadata": {
  "kernelspec": {
   "display_name": "Python 3",
   "language": "python",
   "name": "python3"
  },
  "language_info": {
   "codemirror_mode": {
    "name": "ipython",
    "version": 3
   },
   "file_extension": ".py",
   "mimetype": "text/x-python",
   "name": "python",
   "nbconvert_exporter": "python",
   "pygments_lexer": "ipython3",
   "version": "3.11.3"
  }
 },
 "nbformat": 4,
 "nbformat_minor": 2
}
